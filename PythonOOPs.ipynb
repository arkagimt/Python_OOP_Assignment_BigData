{
  "nbformat": 4,
  "nbformat_minor": 0,
  "metadata": {
    "colab": {
      "provenance": []
    },
    "kernelspec": {
      "name": "python3",
      "display_name": "Python 3"
    },
    "language_info": {
      "name": "python"
    }
  },
  "cells": [
    {
      "cell_type": "markdown",
      "source": [
        "**1. What is the purpose of Python's OOP?**\n",
        "\n",
        "**Groups related data and functions:** OOP lets you create \"blueprints\" called \n",
        "classes, which bundle together properties (data) and methods (functions) related to a specific concept or object.\n",
        "\n",
        "**Simplifies code:** By grouping related data and functions, OOP makes it easier to understand, manage, and maintain code.\n",
        "\n",
        "**Encourages code reuse:** With OOP, you can create new classes based on existing ones, inheriting their properties and methods, which reduces code duplication and promotes reusability.\n",
        "\n",
        "**Enhances collaboration:** OOP allows developers to work on separate parts of a codebase without interfering with each other, which improves team collaboration and project scalability.\n"
      ],
      "metadata": {
        "id": "jC8YrgZfci01"
      }
    },
    {
      "cell_type": "code",
      "execution_count": null,
      "metadata": {
        "colab": {
          "base_uri": "https://localhost:8080/"
        },
        "id": "-e14IntfcbAS",
        "outputId": "d672fe4c-703d-463c-df75-f2d0267a61a1"
      },
      "outputs": [
        {
          "output_type": "stream",
          "name": "stdout",
          "text": [
            "Honk! Honk!\n",
            "Honk! Honk!\n",
            "Charging battery...\n",
            "Honk! Honk!\n",
            "Charging battery...\n"
          ]
        }
      ],
      "source": [
        "# 1. Groups related data and functions\n",
        "class Car:\n",
        "    def __init__(self, make, model, year):\n",
        "        self.make = make\n",
        "        self.model = model\n",
        "        self.year = year\n",
        "\n",
        "    # Method (function) related to the Car object\n",
        "    def honk(self):\n",
        "        print(\"Honk! Honk!\")\n",
        "\n",
        "# 2. Simplifies code\n",
        "my_car = Car(\"Toyota\", \"Camry\", 2021)\n",
        "my_car.honk()  # Output: Honk! Honk!\n",
        "\n",
        "# 3. Encourages code reuse\n",
        "class ElectricCar(Car):\n",
        "    def __init__(self, make, model, year, battery_size):\n",
        "        super().__init__(make, model, year)\n",
        "        self.battery_size = battery_size\n",
        "\n",
        "    # Additional method for ElectricCar\n",
        "    def charge_battery(self):\n",
        "        print(\"Charging battery...\")\n",
        "\n",
        "my_electric_car = ElectricCar(\"Tesla\", \"Model 3\", 2021, 75)\n",
        "my_electric_car.honk()  # Output: Honk! Honk!\n",
        "my_electric_car.charge_battery()  # Output: Charging battery...\n",
        "\n",
        "# 4. Enhances collaboration\n",
        "# Developer A works on Car class\n",
        "class DeveloperA:\n",
        "    def work_on_car(self):\n",
        "        car = Car(\"Honda\", \"Civic\", 2022)\n",
        "        car.honk()\n",
        "\n",
        "# Developer B works on ElectricCar class\n",
        "class DeveloperB:\n",
        "    def work_on_electric_car(self):\n",
        "        electric_car = ElectricCar(\"Nissan\", \"Leaf\", 2023, 40)\n",
        "        electric_car.charge_battery()\n",
        "\n",
        "dev_a = DeveloperA()\n",
        "dev_a.work_on_car()  # Output: Honk! Honk!\n",
        "\n",
        "dev_b = DeveloperB()\n",
        "dev_b.work_on_electric_car()  # Output: Charging battery...\n"
      ]
    },
    {
      "cell_type": "markdown",
      "source": [
        "**2. Where does an inheritance search look for an attribute?**\n",
        "\n",
        "An inheritance search looks for an attribute in the class hierarchy of an object. It starts with the object's class and moves up through its parent classes until the attribute is found or the top of the hierarchy is reached."
      ],
      "metadata": {
        "id": "PDaB0HmGciZN"
      }
    },
    {
      "cell_type": "code",
      "source": [
        "class A:\n",
        "    x = \"Attribute in class A\"\n",
        "\n",
        "class B(A):\n",
        "    pass\n",
        "\n",
        "obj_b = B()\n",
        "\n",
        "# Inheritance search for attribute 'x'\n",
        "print(obj_b.x)  # Output: Attribute in class A\n"
      ],
      "metadata": {
        "colab": {
          "base_uri": "https://localhost:8080/"
        },
        "id": "tjUXADYTfot-",
        "outputId": "35cbb284-9327-4d23-dc54-4f4f9e77ecc7"
      },
      "execution_count": null,
      "outputs": [
        {
          "output_type": "stream",
          "name": "stdout",
          "text": [
            "Attribute in class A\n"
          ]
        }
      ]
    },
    {
      "cell_type": "markdown",
      "source": [
        "**Q3. How do you distinguish between a class object and an instance object?**\n",
        "\n",
        "**A class object **is the \"blueprint\" for creating instances, defining properties and methods shared by all instances. \n",
        "\n",
        "**An instance object** is an individual object created using the class blueprint, with its own set of property values."
      ],
      "metadata": {
        "id": "DXsskxptgLRV"
      }
    },
    {
      "cell_type": "code",
      "source": [
        "# Define a class object (blueprint)\n",
        "class Dog:\n",
        "    species = \"Canis lupus familiaris\"  # Class attribute (shared by all instances)\n",
        "\n",
        "    def __init__(self, name, age):\n",
        "        self.name = name  # Instance attribute (unique to each instance)\n",
        "        self.age = age    # Instance attribute (unique to each instance)\n",
        "\n",
        "# Create two instance objects using the Dog class\n",
        "dog1 = Dog(\"Buddy\", 3)\n",
        "dog2 = Dog(\"Max\", 5)\n",
        "\n",
        "# Class object attributes\n",
        "print(Dog.species)  # Output: Canis lupus familiaris\n",
        "\n",
        "# Instance object attributes\n",
        "print(dog1.name)  # Output: Buddy\n",
        "print(dog2.name)  # Output: Max\n"
      ],
      "metadata": {
        "colab": {
          "base_uri": "https://localhost:8080/"
        },
        "id": "kmFHPR1afsz6",
        "outputId": "9b178dd0-90ee-4f59-d76a-8ce7b976d3c1"
      },
      "execution_count": null,
      "outputs": [
        {
          "output_type": "stream",
          "name": "stdout",
          "text": [
            "Canis lupus familiaris\n",
            "Buddy\n",
            "Max\n"
          ]
        }
      ]
    },
    {
      "cell_type": "markdown",
      "source": [
        "**Q4. What makes the first argument in a class’s method function special?**\n",
        "\n",
        "The first argument in a class's method function is special because it refers to the instance object itself. By convention, this argument is named **self**. It allows you to access and modify the instance's attributes and call other methods within the class."
      ],
      "metadata": {
        "id": "f1ngkcfAgp_s"
      }
    },
    {
      "cell_type": "code",
      "source": [
        "class Circle:\n",
        "    def __init__(self, radius):\n",
        "        self.radius = radius  # Set the instance attribute 'radius'\n",
        "\n",
        "    # Instance method with 'self' as the first argument\n",
        "    def area(self):\n",
        "        return 3.14 * self.radius ** 2  # Access 'radius' using 'self'\n",
        "\n",
        "# Create an instance object\n",
        "circle1 = Circle(5)\n",
        "\n",
        "# Call the 'area' method on the instance object\n",
        "circle_area = circle1.area()  # 'self' here refers to 'circle1'\n",
        "print(circle_area)  # Output: 78.5\n"
      ],
      "metadata": {
        "colab": {
          "base_uri": "https://localhost:8080/"
        },
        "id": "J-bN7g0wglHg",
        "outputId": "7c55421b-3da7-4fbf-c01e-8ebae09c0e7e"
      },
      "execution_count": null,
      "outputs": [
        {
          "output_type": "stream",
          "name": "stdout",
          "text": [
            "78.5\n"
          ]
        }
      ]
    },
    {
      "cell_type": "markdown",
      "source": [
        "Q5. What is the purpose of the init method?\n",
        "\n",
        "The __init__ method serves as the constructor for a class. **It initializes instance attributes** when a new instance of the class is created. The method is automatically called when you create a new object from the class."
      ],
      "metadata": {
        "id": "9Jku1DrwhKm0"
      }
    },
    {
      "cell_type": "code",
      "source": [
        "class Person:\n",
        "    # The __init__ method initializes instance attributes\n",
        "    def __init__(self, name, age):\n",
        "        self.name = name  # Set the 'name' instance attribute\n",
        "        self.age = age    # Set the 'age' instance attribute\n",
        "\n",
        "    def greet(self):\n",
        "        print(f\"Hello, my name is {self.name} and I am {self.age} years old.\")\n",
        "# The greet method in this code is an instance method of the Person class. It takes one argument, self, which refers to the instance of the class. \n",
        "# This method prints a greeting message using the instance attributes self.name and self.age.\n",
        "# Create a new instance of the Person class\n",
        "person1 = Person(\"Alice\", 30)  # The __init__ method is called automatically\n",
        "\n",
        "# Use the instance attributes\n",
        "person1.greet()  # Output: Hello, my name is Alice and I am 30 years old.\n"
      ],
      "metadata": {
        "colab": {
          "base_uri": "https://localhost:8080/"
        },
        "id": "QPMxecOBhGtp",
        "outputId": "2859ff09-92ef-440e-b517-7ceda06316d1"
      },
      "execution_count": null,
      "outputs": [
        {
          "output_type": "stream",
          "name": "stdout",
          "text": [
            "Hello, my name is Alice and I am 30 years old.\n"
          ]
        }
      ]
    },
    {
      "cell_type": "markdown",
      "source": [
        "**Q7. What is the process for creating a class?**\n",
        "\n",
        "Use the class keyword followed by the class name.\n",
        "\n",
        "Optionally, specify a base class in parentheses if the new class inherits from another class.\n",
        "\n",
        "Define class attributes and methods within an indented block."
      ],
      "metadata": {
        "id": "_zx3O5M1jHxP"
      }
    },
    {
      "cell_type": "code",
      "source": [
        "# Step 1: Use the 'class' keyword and define the class name\n",
        "class Animal:\n",
        "    # Step 2: (Optional) In this case, there's no base class to inherit from\n",
        "\n",
        "    # Step 3: Define class attributes and methods\n",
        "    def __init__(self, name, sound):\n",
        "        self.name = name  # Instance attribute\n",
        "        self.sound = sound  # Instance attribute\n",
        "\n",
        "    # Instance method\n",
        "    def make_sound(self):\n",
        "        print(f\"{self.name} says {self.sound}!\")\n",
        "\n",
        "# Create an instance of the Animal class\n",
        "cat = Animal(\"Cat\", \"Meow\")\n",
        "\n",
        "# Call the 'make_sound' method on the instance\n",
        "cat.make_sound()  # Output: Cat says Meow!\n"
      ],
      "metadata": {
        "colab": {
          "base_uri": "https://localhost:8080/"
        },
        "id": "_JvXdowJiBi1",
        "outputId": "01cabe06-13cd-4e39-f572-a0e201ea98b6"
      },
      "execution_count": null,
      "outputs": [
        {
          "output_type": "stream",
          "name": "stdout",
          "text": [
            "Cat says Meow!\n"
          ]
        }
      ]
    },
    {
      "cell_type": "markdown",
      "source": [
        "**Q8. How would you define the superclasses of a class?**\n",
        "\n",
        "**Superclasses** are the classes a class inherits from, directly or indirectly. They provide the base functionality that a derived class can extend or override. To define superclasses, list them in parentheses after the class name when defining the class."
      ],
      "metadata": {
        "id": "174Mj8agj2P0"
      }
    },
    {
      "cell_type": "code",
      "source": [
        "# Define a superclass\n",
        "class Animal:\n",
        "    def __init__(self, name):\n",
        "        self.name = name\n",
        "\n",
        "    def speak(self):\n",
        "        print(f\"{self.name} makes a sound.\")\n",
        "\n",
        "# Define a subclass with Animal as its superclass\n",
        "class Dog(Animal):  # Specify the superclass in parentheses\n",
        "    def __init__(self, name, breed):\n",
        "        super().__init__(name)  # Call the superclass's __init__ method\n",
        "        self.breed = breed\n",
        "\n",
        "    # Override the 'speak' method from the superclass\n",
        "    def speak(self):\n",
        "        print(f\"{self.name} the {self.breed} barks!\")\n",
        "\n",
        "# Create an instance of the Dog class\n",
        "dog1 = Dog(\"Buddy\", \"Golden Retriever\")\n",
        "\n",
        "# Call the 'speak' method on the Dog instance\n",
        "dog1.speak()  # Output: Buddy the Golden Retriever barks!\n"
      ],
      "metadata": {
        "colab": {
          "base_uri": "https://localhost:8080/"
        },
        "id": "KqQyQ24ljqe2",
        "outputId": "a8c824c4-37b6-4542-b549-7e2f4fcdb803"
      },
      "execution_count": null,
      "outputs": [
        {
          "output_type": "stream",
          "name": "stdout",
          "text": [
            "Buddy the Golden Retriever barks!\n"
          ]
        }
      ]
    },
    {
      "cell_type": "markdown",
      "source": [
        "Q9. What is the relationship between classes and modules?\n",
        "\n",
        "Classes and modules are both ways to organize and structure code in Python. \n",
        "\n",
        "**A class** is a blueprint for creating objects and encapsulates data and behavior, while a **module** is a file containing Python code, including classes, functions, and variables.\n",
        "\n",
        "The relationship between them is that you can define classes within modules, allowing you to reuse and share code across multiple projects or parts of a project."
      ],
      "metadata": {
        "id": "DxRKzbefkH0b"
      }
    },
    {
      "cell_type": "code",
      "source": [
        "# animals.py (module)\n",
        "\n",
        "class Animal:\n",
        "    def __init__(self, name):\n",
        "        self.name = name\n",
        "\n",
        "    def speak(self):\n",
        "        print(f\"{self.name} makes a sound.\")\n"
      ],
      "metadata": {
        "id": "gInfqlg6kk2W"
      },
      "execution_count": null,
      "outputs": []
    },
    {
      "cell_type": "code",
      "source": [
        "# main.py\n",
        "\n",
        "# Import the 'Animal' class from the 'animals' module\n",
        "from animals import Animal\n",
        "\n",
        "# Create an instance of the 'Animal' class\n",
        "cat = Animal(\"Cat\")\n",
        "\n",
        "# Call the 'speak' method on the instance\n",
        "cat.speak()  # Output: Cat makes a sound.\n"
      ],
      "metadata": {
        "colab": {
          "base_uri": "https://localhost:8080/",
          "height": 373
        },
        "id": "0gQDxgSrkpbC",
        "outputId": "b5ef7b03-398c-4ac4-eeae-c667d2b48a42"
      },
      "execution_count": null,
      "outputs": [
        {
          "output_type": "error",
          "ename": "ModuleNotFoundError",
          "evalue": "ignored",
          "traceback": [
            "\u001b[0;31m---------------------------------------------------------------------------\u001b[0m",
            "\u001b[0;31mModuleNotFoundError\u001b[0m                       Traceback (most recent call last)",
            "\u001b[0;32m<ipython-input-8-30556c03264b>\u001b[0m in \u001b[0;36m<cell line: 4>\u001b[0;34m()\u001b[0m\n\u001b[1;32m      2\u001b[0m \u001b[0;34m\u001b[0m\u001b[0m\n\u001b[1;32m      3\u001b[0m \u001b[0;31m# Import the 'Animal' class from the 'animals' module\u001b[0m\u001b[0;34m\u001b[0m\u001b[0;34m\u001b[0m\u001b[0m\n\u001b[0;32m----> 4\u001b[0;31m \u001b[0;32mfrom\u001b[0m \u001b[0manimals\u001b[0m \u001b[0;32mimport\u001b[0m \u001b[0mAnimal\u001b[0m\u001b[0;34m\u001b[0m\u001b[0;34m\u001b[0m\u001b[0m\n\u001b[0m\u001b[1;32m      5\u001b[0m \u001b[0;34m\u001b[0m\u001b[0m\n\u001b[1;32m      6\u001b[0m \u001b[0;31m# Create an instance of the 'Animal' class\u001b[0m\u001b[0;34m\u001b[0m\u001b[0;34m\u001b[0m\u001b[0m\n",
            "\u001b[0;31mModuleNotFoundError\u001b[0m: No module named 'animals'",
            "",
            "\u001b[0;31m---------------------------------------------------------------------------\u001b[0;32m\nNOTE: If your import is failing due to a missing package, you can\nmanually install dependencies using either !pip or !apt.\n\nTo view examples of installing some common dependencies, click the\n\"Open Examples\" button below.\n\u001b[0;31m---------------------------------------------------------------------------\u001b[0m\n"
          ],
          "errorDetails": {
            "actions": [
              {
                "action": "open_url",
                "actionText": "Open Examples",
                "url": "/notebooks/snippets/importing_libraries.ipynb"
              }
            ]
          }
        }
      ]
    },
    {
      "cell_type": "markdown",
      "source": [
        "**Q10. How do you make instances and classes?**\n",
        "\n",
        "**To make a class in Python:**\n",
        "\n",
        "1. Use the class keyword followed by the class name.\n",
        "2. Define class attributes and methods within an indented block.\n",
        "To make an instance of a class:\n",
        "\n",
        "**Call the class name followed by** \n",
        "1. parentheses, passing any required arguments.\n",
        "2. Assign the created instance to a variable."
      ],
      "metadata": {
        "id": "bi9Ss54ekuqK"
      }
    },
    {
      "cell_type": "code",
      "source": [
        "# Define a class\n",
        "class Car:\n",
        "    def __init__(self, make, model, year):\n",
        "        self.make = make\n",
        "        self.model = model\n",
        "        self.year = year\n",
        "\n",
        "    def honk(self):\n",
        "        print(f\"The {self.year} {self.make} {self.model} honks!\")\n",
        "\n",
        "# Create an instance of the Car class\n",
        "my_car = Car(\"Toyota\", \"Camry\", 2021)\n",
        "\n",
        "# Call the 'honk' method on the instance\n",
        "my_car.honk()  # Output: The 2021 Toyota Camry honks!\n"
      ],
      "metadata": {
        "colab": {
          "base_uri": "https://localhost:8080/"
        },
        "id": "Z9ww2en-lPnF",
        "outputId": "23060e7e-db14-47cc-a31d-6a59ff5fb94b"
      },
      "execution_count": null,
      "outputs": [
        {
          "output_type": "stream",
          "name": "stdout",
          "text": [
            "The 2021 Toyota Camry honks!\n"
          ]
        }
      ]
    },
    {
      "cell_type": "markdown",
      "source": [
        "**Q11. Where and how should be class attributes created?**\n",
        "\n",
        "Class attributes are created directly inside a class, outside any method. They are shared among all instances of the class, making them useful for storing data or properties that are common to all instances."
      ],
      "metadata": {
        "id": "jciKCgTClh1p"
      }
    },
    {
      "cell_type": "code",
      "source": [
        "class Dog:\n",
        "    # Class attribute (created outside any method, directly inside the class)\n",
        "    species = \"Canis lupus familiaris\"\n",
        "\n",
        "    def __init__(self, name, breed):\n",
        "        self.name = name  # Instance attribute\n",
        "        self.breed = breed  # Instance attribute\n",
        "\n",
        "# Create two instances of the Dog class\n",
        "dog1 = Dog(\"Buddy\", \"Golden Retriever\")\n",
        "dog2 = Dog(\"Max\", \"Labrador Retriever\")\n",
        "\n",
        "# Access the class attribute from instances and the class itself\n",
        "print(dog1.species)  # Output: Canis lupus familiaris\n",
        "print(dog2.species)  # Output: Canis lupus familiaris\n",
        "print(Dog.species)   # Output: Canis lupus familiaris\n"
      ],
      "metadata": {
        "colab": {
          "base_uri": "https://localhost:8080/"
        },
        "id": "bKncdsgKlRzt",
        "outputId": "b5474edd-1a78-4802-e1d6-f407de3ea4a7"
      },
      "execution_count": null,
      "outputs": [
        {
          "output_type": "stream",
          "name": "stdout",
          "text": [
            "Canis lupus familiaris\n",
            "Canis lupus familiaris\n",
            "Canis lupus familiaris\n"
          ]
        }
      ]
    },
    {
      "cell_type": "markdown",
      "source": [
        "**Q12. Where and how are instance attributes created?**\n",
        "\n",
        "Instance attributes are created inside instance methods, typically within the __init__ method (constructor) of a class. They are unique to each instance, storing data specific to that instance."
      ],
      "metadata": {
        "id": "AFPOcfckl_6Q"
      }
    },
    {
      "cell_type": "code",
      "source": [
        "class Car:\n",
        "    # Constructor (__init__ method) initializes instance attributes\n",
        "    def __init__(self, make, model, year):\n",
        "        self.make = make  # Instance attribute\n",
        "        self.model = model  # Instance attribute\n",
        "        self.year = year  # Instance attribute\n",
        "\n",
        "    def honk(self):\n",
        "        print(f\"The {self.year} {self.make} {self.model} honks!\")\n",
        "\n",
        "# Create two instances of the Car class\n",
        "car1 = Car(\"Toyota\", \"Camry\", 2021)\n",
        "car2 = Car(\"Honda\", \"Civic\", 2022)\n",
        "\n",
        "# Access the instance attributes\n",
        "print(car1.make)  # Output: Toyota\n",
        "print(car2.make)  # Output: Honda\n"
      ],
      "metadata": {
        "colab": {
          "base_uri": "https://localhost:8080/"
        },
        "id": "QeXo8wP1lyg0",
        "outputId": "01c466c8-3e77-4f53-95e5-9fc47a1f5739"
      },
      "execution_count": null,
      "outputs": [
        {
          "output_type": "stream",
          "name": "stdout",
          "text": [
            "Toyota\n",
            "Honda\n"
          ]
        }
      ]
    },
    {
      "cell_type": "markdown",
      "source": [
        "**Q13. What does the term \"self\" in a Python class mean?**\n",
        "\n",
        "In a Python class, the term self is a convention used as the first parameter in instance methods. It refers to the instance of the class on which the method is called. It allows you to access and modify the instance's attributes and call other methods within the class."
      ],
      "metadata": {
        "id": "GonOq5NpmTq3"
      }
    },
    {
      "cell_type": "code",
      "source": [
        "class Circle:\n",
        "    def __init__(self, radius):\n",
        "        self.radius = radius  # Set the instance attribute 'radius'\n",
        "\n",
        "    # Instance method with 'self' as the first parameter\n",
        "    def area(self):\n",
        "        return 3.14 * self.radius ** 2  # Access 'radius' using 'self'\n",
        "\n",
        "# Create an instance of the Circle class\n",
        "circle1 = Circle(5)\n",
        "\n",
        "# Call the 'area' method on the instance\n",
        "circle_area = circle1.area()  # 'self' here refers to 'circle1'\n",
        "print(circle_area)  # Output: 78.5\n"
      ],
      "metadata": {
        "colab": {
          "base_uri": "https://localhost:8080/"
        },
        "id": "RD9Aq9VLmPfb",
        "outputId": "5829788c-2623-43e6-9afb-300ee8c55556"
      },
      "execution_count": null,
      "outputs": [
        {
          "output_type": "stream",
          "name": "stdout",
          "text": [
            "78.5\n"
          ]
        }
      ]
    },
    {
      "cell_type": "markdown",
      "source": [
        "**Q14. How does a Python class handle operator overloading?**\n",
        "\n",
        "In Python, operator overloading allows a class to define custom behavior for built-in operators like +, -, *, etc. To handle operator overloading, you implement special methods in the class, like __add__ for addition or __sub__ for subtraction. These methods are called when an operator is used with instances of the class."
      ],
      "metadata": {
        "id": "I3ykEWhdmlTP"
      }
    },
    {
      "cell_type": "code",
      "source": [
        "class Vector:\n",
        "    def __init__(self, x, y):\n",
        "        self.x = x\n",
        "        self.y = y\n",
        "\n",
        "    # Overload the '+' operator using the __add__ special method\n",
        "    def __add__(self, other):\n",
        "        return Vector(self.x + other.x, self.y + other.y)\n",
        "\n",
        "    def __repr__(self):\n",
        "        return f\"Vector({self.x}, {self.y})\"\n",
        "\n",
        "# Create two instances of the Vector class\n",
        "vector1 = Vector(1, 2)\n",
        "vector2 = Vector(3, 4)\n",
        "\n",
        "# Use the '+' operator with the instances\n",
        "vector3 = vector1 + vector2  # Calls the __add__ method\n",
        "\n",
        "print(vector3)  # Output: Vector(4, 6)\n"
      ],
      "metadata": {
        "colab": {
          "base_uri": "https://localhost:8080/"
        },
        "id": "s1-ZP2gimkbb",
        "outputId": "3199ebfe-c11d-4f32-c6ad-48ca1c04383f"
      },
      "execution_count": null,
      "outputs": [
        {
          "output_type": "stream",
          "name": "stdout",
          "text": [
            "Vector(4, 6)\n"
          ]
        }
      ]
    },
    {
      "cell_type": "markdown",
      "source": [
        "**Q15. When do you consider allowing operator overloading of your classes?**\n",
        "\n",
        "Operator overloading is a feature that allows you to define custom behavior for built-in operators (like +, -, *, etc.) when used with instances of your custom classes. It makes your code more intuitive and expressive by enabling you to use familiar operators with custom objects.\n",
        "\n",
        "You should consider allowing operator overloading of your classes when it makes sense to use built-in operators for your custom objects in a way that is intuitive and improves code readability.\n",
        "\n",
        " Operator overloading can make your code more expressive and easier to understand."
      ],
      "metadata": {
        "id": "CLoFSojcnVJk"
      }
    },
    {
      "cell_type": "code",
      "source": [
        "class Fraction:\n",
        "    def __init__(self, numerator, denominator):\n",
        "        self.numerator = numerator\n",
        "        self.denominator = denominator\n",
        "\n",
        "    # Overload the '+' operator using the __add__ special method\n",
        "    def __add__(self, other):\n",
        "        new_numerator = (self.numerator * other.denominator) + (other.numerator * self.denominator)\n",
        "        new_denominator = self.denominator * other.denominator\n",
        "        return Fraction(new_numerator, new_denominator)\n",
        "\n",
        "    def __repr__(self):\n",
        "        return f\"{self.numerator}/{self.denominator}\"\n",
        "\n",
        "# Create two instances of the Fraction class\n",
        "fraction1 = Fraction(1, 2)\n",
        "fraction2 = Fraction(2, 3)\n",
        "\n",
        "# Use the '+' operator with the instances\n",
        "fraction3 = fraction1 + fraction2  # Calls the __add__ method\n",
        "\n",
        "print(fraction3)  # Output: 7/6\n"
      ],
      "metadata": {
        "colab": {
          "base_uri": "https://localhost:8080/"
        },
        "id": "i_LcAyw0oGfv",
        "outputId": "9141194c-8458-4fd4-f6b7-0936d024e171"
      },
      "execution_count": null,
      "outputs": [
        {
          "output_type": "stream",
          "name": "stdout",
          "text": [
            "7/6\n"
          ]
        }
      ]
    },
    {
      "cell_type": "markdown",
      "source": [
        "**Q16. What is the most popular form of operator overloading?**\n",
        "\n"
      ],
      "metadata": {
        "id": "FDm8rjxuoJIS"
      }
    },
    {
      "cell_type": "code",
      "source": [
        "class CustomString:\n",
        "    def __init__(self, text):\n",
        "        self.text = text\n",
        "\n",
        "    # Overload the '+' operator using the __add__ special method\n",
        "    def __add__(self, other):\n",
        "        return CustomString(self.text + other.text)\n",
        "\n",
        "    def __repr__(self):\n",
        "        return self.text\n",
        "\n",
        "# Create two instances of the CustomString class\n",
        "custom_string1 = CustomString(\"Hello, \")\n",
        "custom_string2 = CustomString(\"World!\")\n",
        "\n",
        "# Use the '+' operator with the instances\n",
        "custom_string3 = custom_string1 + custom_string2  # Calls the __add__ method\n",
        "\n",
        "print(custom_string3)  # Output: Hello, World!\n"
      ],
      "metadata": {
        "colab": {
          "base_uri": "https://localhost:8080/"
        },
        "id": "SO4htj77oHPv",
        "outputId": "d4f24d21-f229-4813-ee1d-b9131e9fc0fe"
      },
      "execution_count": null,
      "outputs": [
        {
          "output_type": "stream",
          "name": "stdout",
          "text": [
            "Hello, World!\n"
          ]
        }
      ]
    },
    {
      "cell_type": "markdown",
      "source": [
        "**Q17. What are the two most important concepts to grasp in order to comprehend Python OOP code?**\n",
        "\n",
        "**Classes:** Blueprints for creating objects, containing attributes (data) and methods (functions).\n",
        "**Instances:** Individual objects created from classes, each with its own set of attributes."
      ],
      "metadata": {
        "id": "gppVsmXRojsT"
      }
    },
    {
      "cell_type": "code",
      "source": [
        "# Define a class (concept 1)\n",
        "class Dog:\n",
        "    def __init__(self, name, breed):\n",
        "        self.name = name  # Instance attribute\n",
        "        self.breed = breed  # Instance attribute\n",
        "\n",
        "    # Instance method\n",
        "    def bark(self):\n",
        "        print(f\"{self.name} barks!\")\n",
        "\n",
        "# Create instances of the Dog class (concept 2)\n",
        "dog1 = Dog(\"Buddy\", \"Golden Retriever\")\n",
        "dog2 = Dog(\"Max\", \"Labrador Retriever\")\n",
        "\n",
        "# Call the 'bark' method on each instance\n",
        "dog1.bark()  # Output: Buddy barks!\n",
        "dog2.bark()  # Output: Max barks!\n"
      ],
      "metadata": {
        "colab": {
          "base_uri": "https://localhost:8080/"
        },
        "id": "7YK099GFofWG",
        "outputId": "83522a61-93ec-45fb-be38-aaf7a5a9bc61"
      },
      "execution_count": null,
      "outputs": [
        {
          "output_type": "stream",
          "name": "stdout",
          "text": [
            "Buddy barks!\n",
            "Max barks!\n"
          ]
        }
      ]
    },
    {
      "cell_type": "markdown",
      "source": [
        "**Q18. Describe three applications for exception processing.**\n",
        "\n",
        "Exception processing in Python refers to handling unexpected events or errors that occur during the execution of a program. It involves using try, except, and optionally finally blocks to catch and handle exceptions (errors), allowing the program to continue running or gracefully terminate instead of crashing.\n",
        "\n",
        "\n",
        "1. Handle expected errors: Catch and handle errors that might occur during the execution of your code, preventing the program from crashing.\n",
        "\n",
        "2. Log errors: Record error information in a log file or display it to the user, helping with debugging and troubleshooting.\n",
        "\n",
        "3. Clean up resources: Ensure that resources (like file handles or network connections) are released or closed, even if an error occurs."
      ],
      "metadata": {
        "id": "3przVdwho5bJ"
      }
    },
    {
      "cell_type": "code",
      "source": [
        "def divide(a, b):\n",
        "    try:\n",
        "        # Attempt division, which may raise an exception\n",
        "        result = a / b\n",
        "    except ZeroDivisionError:\n",
        "        # Handle the exception if it occurs\n",
        "        print(\"Error: Division by zero\")\n",
        "        result = None\n",
        "    return result\n",
        "\n",
        "# Test the divide function with valid and invalid inputs\n",
        "print(divide(4, 2))  # Output: 2.0\n",
        "print(divide(4, 0))  # Output: Error: Division by zero\n",
        "                     #         None\n"
      ],
      "metadata": {
        "colab": {
          "base_uri": "https://localhost:8080/"
        },
        "id": "xeU4fKrEo03t",
        "outputId": "e23dc41d-63f8-4596-a1fb-9bd4b8ce92f9"
      },
      "execution_count": null,
      "outputs": [
        {
          "output_type": "stream",
          "name": "stdout",
          "text": [
            "2.0\n",
            "Error: Division by zero\n",
            "None\n"
          ]
        }
      ]
    },
    {
      "cell_type": "markdown",
      "source": [
        "**Q19. What happens if you don't do something extra to treat an exception?**\n",
        "\n",
        "If you don't do something extra to treat an exception, the program will terminate abruptly (crash) when the exception occurs, and a traceback message will be displayed, showing the details of the error."
      ],
      "metadata": {
        "id": "gb5DP5NWqC_W"
      }
    },
    {
      "cell_type": "code",
      "source": [
        "def divide(a, b):\n",
        "    # Attempt division without handling exceptions\n",
        "    result = a / b\n",
        "    return result\n",
        "\n",
        "# Test the divide function with valid and invalid inputs\n",
        "print(divide(4, 2))  # Output: 2.0\n",
        "\n",
        "# The following line will cause the program to crash and display a traceback message\n",
        "print(divide(4, 0))  # Output: ZeroDivisionError: division by zero\n"
      ],
      "metadata": {
        "colab": {
          "base_uri": "https://localhost:8080/",
          "height": 356
        },
        "id": "QjmllAz1pjYr",
        "outputId": "d0996dac-d42b-44ce-c888-1be5a9b7fdc1"
      },
      "execution_count": null,
      "outputs": [
        {
          "output_type": "stream",
          "name": "stdout",
          "text": [
            "2.0\n"
          ]
        },
        {
          "output_type": "error",
          "ename": "ZeroDivisionError",
          "evalue": "ignored",
          "traceback": [
            "\u001b[0;31m---------------------------------------------------------------------------\u001b[0m",
            "\u001b[0;31mZeroDivisionError\u001b[0m                         Traceback (most recent call last)",
            "\u001b[0;32m<ipython-input-18-d569a19a3c38>\u001b[0m in \u001b[0;36m<cell line: 10>\u001b[0;34m()\u001b[0m\n\u001b[1;32m      8\u001b[0m \u001b[0;34m\u001b[0m\u001b[0m\n\u001b[1;32m      9\u001b[0m \u001b[0;31m# The following line will cause the program to crash and display a traceback message\u001b[0m\u001b[0;34m\u001b[0m\u001b[0;34m\u001b[0m\u001b[0m\n\u001b[0;32m---> 10\u001b[0;31m \u001b[0mprint\u001b[0m\u001b[0;34m(\u001b[0m\u001b[0mdivide\u001b[0m\u001b[0;34m(\u001b[0m\u001b[0;36m4\u001b[0m\u001b[0;34m,\u001b[0m \u001b[0;36m0\u001b[0m\u001b[0;34m)\u001b[0m\u001b[0;34m)\u001b[0m  \u001b[0;31m# Output: ZeroDivisionError: division by zero\u001b[0m\u001b[0;34m\u001b[0m\u001b[0;34m\u001b[0m\u001b[0m\n\u001b[0m",
            "\u001b[0;32m<ipython-input-18-d569a19a3c38>\u001b[0m in \u001b[0;36mdivide\u001b[0;34m(a, b)\u001b[0m\n\u001b[1;32m      1\u001b[0m \u001b[0;32mdef\u001b[0m \u001b[0mdivide\u001b[0m\u001b[0;34m(\u001b[0m\u001b[0ma\u001b[0m\u001b[0;34m,\u001b[0m \u001b[0mb\u001b[0m\u001b[0;34m)\u001b[0m\u001b[0;34m:\u001b[0m\u001b[0;34m\u001b[0m\u001b[0;34m\u001b[0m\u001b[0m\n\u001b[1;32m      2\u001b[0m     \u001b[0;31m# Attempt division without handling exceptions\u001b[0m\u001b[0;34m\u001b[0m\u001b[0;34m\u001b[0m\u001b[0m\n\u001b[0;32m----> 3\u001b[0;31m     \u001b[0mresult\u001b[0m \u001b[0;34m=\u001b[0m \u001b[0ma\u001b[0m \u001b[0;34m/\u001b[0m \u001b[0mb\u001b[0m\u001b[0;34m\u001b[0m\u001b[0;34m\u001b[0m\u001b[0m\n\u001b[0m\u001b[1;32m      4\u001b[0m     \u001b[0;32mreturn\u001b[0m \u001b[0mresult\u001b[0m\u001b[0;34m\u001b[0m\u001b[0;34m\u001b[0m\u001b[0m\n\u001b[1;32m      5\u001b[0m \u001b[0;34m\u001b[0m\u001b[0m\n",
            "\u001b[0;31mZeroDivisionError\u001b[0m: division by zero"
          ]
        }
      ]
    },
    {
      "cell_type": "markdown",
      "source": [
        "**Q20. What are your options for recovering from an exception in your script?**\n",
        "\n",
        "1. Handle the exception with a try-except block: Catch and handle the exception, allowing the program to continue running.\n",
        "\n",
        "2. Use a finally block: Perform cleanup tasks or release resources, regardless of whether an exception occurs or not.\n",
        "\n",
        "3. Raise a custom exception: Create a custom exception class and raise it when specific conditions are met, allowing for more precise error handling."
      ],
      "metadata": {
        "id": "hPV5ijDnqdrV"
      }
    },
    {
      "cell_type": "code",
      "source": [
        "# Custom exception class\n",
        "class CustomError(Exception):\n",
        "    pass\n",
        "\n",
        "def divide(a, b):\n",
        "    try:\n",
        "        if b == 0:\n",
        "            # Raise a custom exception (option 3)\n",
        "            raise CustomError(\"Error: Division by zero\")\n",
        "        result = a / b\n",
        "    except CustomError as e:\n",
        "        # Handle the exception (option 1)\n",
        "        print(e)\n",
        "        result = None\n",
        "    finally:\n",
        "        # Perform cleanup tasks (option 2)\n",
        "        # In this example, no cleanup tasks are needed.\n",
        "        pass\n",
        "    return result\n",
        "\n",
        "# Test the divide function with valid and invalid inputs\n",
        "print(divide(4, 2))  # Output: 2.0\n",
        "print(divide(4, 0))  # Output: Error: Division by zero\n",
        "                     #         None\n"
      ],
      "metadata": {
        "colab": {
          "base_uri": "https://localhost:8080/"
        },
        "id": "xpPKUftXqZ2C",
        "outputId": "4ebdcd08-8d1b-4d37-e604-057e36492642"
      },
      "execution_count": null,
      "outputs": [
        {
          "output_type": "stream",
          "name": "stdout",
          "text": [
            "2.0\n",
            "Error: Division by zero\n",
            "None\n"
          ]
        }
      ]
    },
    {
      "cell_type": "markdown",
      "source": [
        "**Q21. Describe two methods for triggering exceptions in your script**\n",
        "\n",
        "**Two methods for triggering exceptions in your script are:**\n",
        "\n",
        "**Using the raise statement:** Manually raise an exception when specific conditions are met.\n",
        "\n",
        "**Allowing Python to raise built-in exceptions:** Let Python raise exceptions automatically when an error occurs (e.g., dividing by zero, accessing a nonexistent key in a dictionary)."
      ],
      "metadata": {
        "id": "_MkmXuyjrJVE"
      }
    },
    {
      "cell_type": "code",
      "source": [
        "def check_age(age):\n",
        "    # Trigger an exception using the 'raise' statement (method 1)\n",
        "    if age < 0:\n",
        "        raise ValueError(\"Age cannot be negative\")\n",
        "\n",
        "    # Allowing Python to raise a built-in exception (method 2)\n",
        "    # Trying to access a nonexistent key in a dictionary\n",
        "    ages = {1: \"one\", 2: \"two\"}\n",
        "    try:\n",
        "        age_word = ages[age]\n",
        "    except KeyError:\n",
        "        age_word = \"unknown\"\n",
        "\n",
        "    return age_word\n",
        "\n",
        "# Test the check_age function with valid and invalid inputs\n",
        "print(check_age(1))  # Output: one\n",
        "\n",
        "try:\n",
        "    print(check_age(-1))  # Triggers the ValueError exception\n",
        "except ValueError as e:\n",
        "    print(e)  # Output: Age cannot be negative\n",
        "\n",
        "print(check_age(3))  # Output: unknown (handles KeyError exception)\n"
      ],
      "metadata": {
        "colab": {
          "base_uri": "https://localhost:8080/"
        },
        "id": "0EfKVsLhq14x",
        "outputId": "8a038619-778c-4c98-c750-0e835a3c4c34"
      },
      "execution_count": null,
      "outputs": [
        {
          "output_type": "stream",
          "name": "stdout",
          "text": [
            "one\n",
            "Age cannot be negative\n",
            "unknown\n"
          ]
        }
      ]
    },
    {
      "cell_type": "markdown",
      "source": [
        "**Q22. Identify two methods for specifying actions to be executed at termination time, regardless of whether or not an exception exists.**\n",
        "\n",
        "Two methods for specifying actions to be executed at termination time, regardless of whether or not an exception exists, are:\n",
        "\n",
        "   **Using the finally block:** Place the cleanup code inside the finally block, which is executed after the try and except blocks, regardless of whether an exception occurs or not.\n",
        "\n",
        "   ** Using the with statement (context manager):** Manage resources such as file handling or network connections, ensuring that they are properly acquired and released, even if an exception occurs."
      ],
      "metadata": {
        "id": "yjxOcKWJrdzM"
      }
    },
    {
      "cell_type": "code",
      "source": [
        "# Method 1: Using the 'finally' block\n",
        "def divide(a, b):\n",
        "    try:\n",
        "        result = a / b\n",
        "    except ZeroDivisionError:\n",
        "        print(\"Error: Division by zero\")\n",
        "        result = None\n",
        "    finally:\n",
        "        # Actions to be executed at termination time\n",
        "        print(\"Division operation completed\")\n",
        "    return result\n",
        "\n",
        "print(divide(4, 2))  # Output: Division operation completed\n",
        "                     #         2.0\n",
        "print(divide(4, 0))  # Output: Error: Division by zero\n",
        "                     #         Division operation completed\n",
        "                     #         None\n",
        "\n",
        "# Method 2: Using the 'with' statement (context manager)\n",
        "filename = \"example.txt\"\n",
        "try:\n",
        "    with open(filename, \"r\") as file:\n",
        "        content = file.read()\n",
        "        # An exception within this block would still close the file properly\n",
        "except FileNotFoundError:\n",
        "    print(f\"Error: File '{filename}' not found\")\n",
        "    content = None\n",
        "\n",
        "print(content)  # Output: Content of the file or None if not found\n"
      ],
      "metadata": {
        "colab": {
          "base_uri": "https://localhost:8080/"
        },
        "id": "F0vhu9avsUwg",
        "outputId": "455e9920-d8f7-4b3a-c8ae-c9a9f466ee4e"
      },
      "execution_count": 1,
      "outputs": [
        {
          "output_type": "stream",
          "name": "stdout",
          "text": [
            "Division operation completed\n",
            "2.0\n",
            "Error: Division by zero\n",
            "Division operation completed\n",
            "None\n",
            "Error: File 'example.txt' not found\n",
            "None\n"
          ]
        }
      ]
    },
    {
      "cell_type": "markdown",
      "source": [
        "**Q23. What is the purpose of the try statement?**\n",
        "\n",
        "The purpose of the try statement is to enclose a block of code where an exception (error) might occur during the program's execution. If an exception is raised within the try block, the program will jump to the corresponding except block to handle the exception, allowing the program to continue running or gracefully terminate instead of crashing."
      ],
      "metadata": {
        "id": "MLSn70La1mzc"
      }
    },
    {
      "cell_type": "code",
      "source": [
        "def divide(a, b):\n",
        "    try:\n",
        "        # Attempt division, which may raise an exception\n",
        "        result = a / b\n",
        "    except ZeroDivisionError:\n",
        "        # Handle the exception if it occurs\n",
        "        print(\"Error: Division by zero\")\n",
        "        result = None\n",
        "    return result\n",
        "\n",
        "# Test the divide function with valid and invalid inputs\n",
        "print(divide(4, 2))  # Output: 2.0\n",
        "print(divide(4, 0))  # Output: Error: Division by zero\n",
        "                     #         None\n"
      ],
      "metadata": {
        "id": "kETIW1hfsYCV"
      },
      "execution_count": null,
      "outputs": []
    },
    {
      "cell_type": "markdown",
      "source": [
        "**Q24. What are the two most popular try statement variations?**\n",
        "\n",
        "The two most popular try statement variations are:\n",
        "\n",
        "  **1. try-except block:** This variation is used to catch and handle exceptions raised within the try block. If an exception occurs, the corresponding except block is executed.\n",
        "  \n",
        "  **2. try-finally block:** This variation is used to specify actions that must be executed at termination time, regardless of whether an exception occurs or not. The finally block is executed after the try block and any except blocks."
      ],
      "metadata": {
        "id": "nzOyHRqd2D57"
      }
    },
    {
      "cell_type": "code",
      "source": [
        "def divide(a, b):\n",
        "    try:\n",
        "        # Attempt division, which may raise an exception (try-except block)\n",
        "        result = a / b\n",
        "    except ZeroDivisionError:\n",
        "        # Handle the exception if it occurs (try-except block)\n",
        "        print(\"Error: Division by zero\")\n",
        "        result = None\n",
        "    finally:\n",
        "        # Actions to be executed at termination time, regardless of exceptions (try-finally block)\n",
        "        print(\"Division operation completed\")\n",
        "    return result\n",
        "\n",
        "# Test the divide function with valid and invalid inputs\n",
        "print(divide(4, 2))  # Output: Division operation completed\n",
        "                     #         2.0\n",
        "print(divide(4, 0))  # Output: Error: Division by zero\n",
        "                     #         Division operation completed\n",
        "                     #         None\n"
      ],
      "metadata": {
        "id": "BVyjgC5S2c2a"
      },
      "execution_count": null,
      "outputs": []
    },
    {
      "cell_type": "markdown",
      "source": [
        "**Q25. What is the purpose of the raise statement?**\n",
        "\n",
        "The purpose of the raise statement is to manually trigger an exception in your code when specific conditions are met. This allows you to handle exceptional situations and enforce constraints in your program."
      ],
      "metadata": {
        "id": "p4gT8eCi2jNb"
      }
    },
    {
      "cell_type": "code",
      "source": [
        "def check_age(age):\n",
        "    # Raise an exception if the age is negative\n",
        "    if age < 0:\n",
        "        raise ValueError(\"Age cannot be negative\")\n",
        "\n",
        "    return f\"You are {age} years old.\"\n",
        "\n",
        "# Test the check_age function with valid and invalid inputs\n",
        "print(check_age(25))  # Output: You are 25 years old.\n",
        "\n",
        "try:\n",
        "    print(check_age(-1))  # Triggers the ValueError exception\n",
        "except ValueError as e:\n",
        "    print(e)  # Output: Age cannot be negative\n"
      ],
      "metadata": {
        "colab": {
          "base_uri": "https://localhost:8080/"
        },
        "id": "qTyr6TK02-n2",
        "outputId": "8ed82a39-a07b-4ed0-8651-c9c08e3b419d"
      },
      "execution_count": 2,
      "outputs": [
        {
          "output_type": "stream",
          "name": "stdout",
          "text": [
            "You are 25 years old.\n",
            "Age cannot be negative\n"
          ]
        }
      ]
    },
    {
      "cell_type": "markdown",
      "source": [
        "**Q26. What does the assert statement do, and what other statement is it like?**\n",
        "\n"
      ],
      "metadata": {
        "id": "ubBwPXHw3C2D"
      }
    },
    {
      "cell_type": "code",
      "source": [
        "def check_age(age):\n",
        "    # Raise an exception if the age is negative\n",
        "    if age < 0:\n",
        "        raise ValueError(\"Age cannot be negative\")\n",
        "\n",
        "    return f\"You are {age} years old.\"\n",
        "\n",
        "# Test the check_age function with valid and invalid inputs\n",
        "print(check_age(25))  # Output: You are 25 years old.\n",
        "\n",
        "try:\n",
        "    print(check_age(-1))  # Triggers the ValueError exception\n",
        "except ValueError as e:\n",
        "    print(e)  # Output: Age cannot be negative\n"
      ],
      "metadata": {
        "colab": {
          "base_uri": "https://localhost:8080/"
        },
        "id": "RQ3aESwR3BuE",
        "outputId": "8822e75e-e1ef-49e2-da80-d5579a47b17b"
      },
      "execution_count": 3,
      "outputs": [
        {
          "output_type": "stream",
          "name": "stdout",
          "text": [
            "You are 25 years old.\n",
            "Age cannot be negative\n"
          ]
        }
      ]
    },
    {
      "cell_type": "markdown",
      "source": [
        "**Q27. What is the purpose of the with/as argument, and what other statement is it like?**\n",
        "\n",
        "The purpose of the with/as statement, also known as a context manager, is to simplify resource management in your code by automatically acquiring and releasing resources, like file handling or network connections, even if an exception occurs. The with statement is similar to a try-finally block, as it ensures that cleanup code is executed regardless of whether an exception is raised or not."
      ],
      "metadata": {
        "id": "xSniQi1M3Lq6"
      }
    },
    {
      "cell_type": "code",
      "source": [
        "# Using 'with' statement for file handling\n",
        "filename = \"example.txt\"\n",
        "\n",
        "try:\n",
        "    # Acquire the file resource and automatically release it after the block (similar to try-finally)\n",
        "    with open(filename, \"r\") as file:\n",
        "        content = file.read()\n",
        "        # An exception within this block would still close the file properly\n",
        "except FileNotFoundError:\n",
        "    print(f\"Error: File '{filename}' not found\")\n",
        "    content = None\n",
        "\n",
        "print(content)  # Output: Content of the file or None if not found\n"
      ],
      "metadata": {
        "colab": {
          "base_uri": "https://localhost:8080/"
        },
        "id": "ZTEjsn7U3KvV",
        "outputId": "077bf864-7dfa-4f2e-bb11-2ada9ab81022"
      },
      "execution_count": 4,
      "outputs": [
        {
          "output_type": "stream",
          "name": "stdout",
          "text": [
            "Error: File 'example.txt' not found\n",
            "None\n"
          ]
        }
      ]
    },
    {
      "cell_type": "markdown",
      "source": [
        "**Q28. What are args, kwargs?**\n",
        "\n",
        "*args and **kwargs are special syntax in Python for passing a variable number of arguments to a function.\n",
        "\n",
        "*args: It allows you to pass multiple non-keyword (positional) arguments to a function, which are then accessible as a tuple within the function.\n",
        "\n",
        "**kwargs: It allows you to pass multiple keyword arguments to a function, which are then accessible as a dictionary within the function.\n"
      ],
      "metadata": {
        "id": "7c84neWf3mcS"
      }
    },
    {
      "cell_type": "code",
      "source": [
        "def example_function(arg1, arg2, *args, **kwargs):\n",
        "    print(\"arg1:\", arg1)\n",
        "    print(\"arg2:\", arg2)\n",
        "    print(\"args (tuple):\", args)\n",
        "    print(\"kwargs (dictionary):\", kwargs)\n",
        "\n",
        "# Test the example_function with various arguments\n",
        "example_function(1, 2, 3, 4, 5, key1=\"value1\", key2=\"value2\")\n",
        "\n",
        "# Output:\n",
        "# arg1: 1\n",
        "# arg2: 2\n",
        "# args (tuple): (3, 4, 5)\n",
        "# kwargs (dictionary): {'key1': 'value1', 'key2': 'value2'}\n"
      ],
      "metadata": {
        "colab": {
          "base_uri": "https://localhost:8080/"
        },
        "id": "CKcd88eP3lgV",
        "outputId": "894789da-5e44-4cbb-c677-014fbfb014bc"
      },
      "execution_count": 5,
      "outputs": [
        {
          "output_type": "stream",
          "name": "stdout",
          "text": [
            "arg1: 1\n",
            "arg2: 2\n",
            "args (tuple): (3, 4, 5)\n",
            "kwargs (dictionary): {'key1': 'value1', 'key2': 'value2'}\n"
          ]
        }
      ]
    },
    {
      "cell_type": "markdown",
      "source": [
        "**Q29. How can I pass optional or keyword parameters from one function to another?**\n",
        "\n",
        "You can pass optional or keyword parameters from one function to another using *args for optional (positional) arguments and **kwargs for keyword arguments. This allows you to collect and forward the arguments to another function."
      ],
      "metadata": {
        "id": "37Pq47qO4Ve0"
      }
    },
    {
      "cell_type": "code",
      "source": [
        "def display_greeting(name, *args, **kwargs):\n",
        "    greeting = f\"Hello, {name}\"\n",
        "    if \"uppercase\" in kwargs and kwargs[\"uppercase\"]:\n",
        "        greeting = greeting.upper()\n",
        "    print(greeting)\n",
        "    print(\"Extra positional arguments:\", args)\n",
        "    print(\"Extra keyword arguments:\", kwargs)\n",
        "\n",
        "def forward_arguments(*args, **kwargs):\n",
        "    # Forward the collected arguments to the display_greeting function\n",
        "    display_greeting(*args, **kwargs)\n",
        "\n",
        "# Test the forward_arguments function\n",
        "forward_arguments(\"Alice\", 1, 2, 3, uppercase=True, example_key=\"example_value\")\n",
        "\n",
        "# Output:\n",
        "# HELLO, ALICE\n",
        "# Extra positional arguments: (1, 2, 3)\n",
        "# Extra keyword arguments: {'uppercase': True, 'example_key': 'example_value'}\n"
      ],
      "metadata": {
        "colab": {
          "base_uri": "https://localhost:8080/"
        },
        "id": "J0COJeCf4KtH",
        "outputId": "482e874d-9cb4-4c86-fc3e-ac1547f2bcaf"
      },
      "execution_count": 6,
      "outputs": [
        {
          "output_type": "stream",
          "name": "stdout",
          "text": [
            "HELLO, ALICE\n",
            "Extra positional arguments: (1, 2, 3)\n",
            "Extra keyword arguments: {'uppercase': True, 'example_key': 'example_value'}\n"
          ]
        }
      ]
    },
    {
      "cell_type": "markdown",
      "source": [
        "In this example, we define a display_greeting function that accepts a name argument, optional positional arguments (*args), and keyword arguments (**kwargs). We also define a forward_arguments function that collects its own *args and **kwargs and forwards them to the display_greeting function.\n",
        "\n",
        "When we call the forward_arguments function with various arguments, it collects and forwards them to the display_greeting function, which prints the received values."
      ],
      "metadata": {
        "id": "cJVRPQ0f4l9y"
      }
    },
    {
      "cell_type": "markdown",
      "source": [
        "**Q30. What are Lambda Functions?**\n",
        "\n",
        "Lambda functions are small, anonymous (unnamed) functions in Python that can be defined using the lambda keyword. They can have any number of arguments but only one expression, which is evaluated and returned as the result of the function. Lambda functions are useful for simple operations when a full function definition is not necessary."
      ],
      "metadata": {
        "id": "NN-M25Q44q_T"
      }
    },
    {
      "cell_type": "code",
      "source": [
        "# Define a lambda function to add two numbers\n",
        "add = lambda x, y: x + y\n",
        "\n",
        "# Test the lambda function\n",
        "result = add(3, 4)\n",
        "print(result)  # Output: 7\n",
        "\n",
        "# Using a lambda function as an argument in another function\n",
        "numbers = [1, 2, 3, 4, 5]\n",
        "squares = list(map(lambda x: x ** 2, numbers))\n",
        "print(squares)  # Output: [1, 4, 9, 16, 25]\n"
      ],
      "metadata": {
        "colab": {
          "base_uri": "https://localhost:8080/"
        },
        "id": "9MmbgeS_49rQ",
        "outputId": "b51c8ad8-1963-4ad6-8da5-475c0fe8a07b"
      },
      "execution_count": 7,
      "outputs": [
        {
          "output_type": "stream",
          "name": "stdout",
          "text": [
            "7\n",
            "[1, 4, 9, 16, 25]\n"
          ]
        }
      ]
    },
    {
      "cell_type": "code",
      "source": [
        "data = [(\"apple\", 3), (\"banana\", 1), (\"orange\", 2)]\n",
        "\n",
        "# Sort the list of tuples by the second element using a lambda function\n",
        "sorted_data = sorted(data, key=lambda x: x[1])\n",
        "\n",
        "print(sorted_data)  # Output: [('banana', 1), ('orange', 2), ('apple', 3)]\n"
      ],
      "metadata": {
        "colab": {
          "base_uri": "https://localhost:8080/"
        },
        "id": "_R-72ooC5N6D",
        "outputId": "0c5cdbd1-7539-47a0-a486-dcd026d7cc92"
      },
      "execution_count": 8,
      "outputs": [
        {
          "output_type": "stream",
          "name": "stdout",
          "text": [
            "[('banana', 1), ('orange', 2), ('apple', 3)]\n"
          ]
        }
      ]
    },
    {
      "cell_type": "code",
      "source": [
        "numbers = [1, 2, 3, 4, 5, 6, 7, 8, 9]\n",
        "\n",
        "# Filter the list of numbers to keep only the even ones using a lambda function\n",
        "even_numbers = list(filter(lambda x: x % 2 == 0, numbers))\n",
        "\n",
        "print(even_numbers)  # Output: [2, 4, 6, 8]\n"
      ],
      "metadata": {
        "colab": {
          "base_uri": "https://localhost:8080/"
        },
        "id": "0pHTj6GH5PCm",
        "outputId": "ecbbc50a-ffb6-4f6c-97b4-b8c3a23dab91"
      },
      "execution_count": 9,
      "outputs": [
        {
          "output_type": "stream",
          "name": "stdout",
          "text": [
            "[2, 4, 6, 8]\n"
          ]
        }
      ]
    },
    {
      "cell_type": "code",
      "source": [
        "from functools import reduce\n",
        "\n",
        "numbers = [1, 2, 3, 4, 5]\n",
        "\n",
        "# Calculate the product of all numbers in the list using a lambda function and reduce()\n",
        "product = reduce(lambda x, y: x * y, numbers)\n",
        "\n",
        "print(product)  # Output: 120\n"
      ],
      "metadata": {
        "colab": {
          "base_uri": "https://localhost:8080/"
        },
        "id": "8Mz4lTp_5R1w",
        "outputId": "3152cb02-a74f-4e23-ad00-1e48e0ead490"
      },
      "execution_count": 10,
      "outputs": [
        {
          "output_type": "stream",
          "name": "stdout",
          "text": [
            "120\n"
          ]
        }
      ]
    },
    {
      "cell_type": "markdown",
      "source": [
        "**Q31. Explain Inheritance in Python with an example?**\n",
        "\n",
        "Inheritance is an Object-Oriented Programming (OOP) concept that allows one class to inherit properties and methods from another class. It promotes code reusability and reduces code duplication. A class that inherits from another class is called a subclass, while the class that is inherited from is called the superclass."
      ],
      "metadata": {
        "id": "Z4sSeHbA5i7s"
      }
    },
    {
      "cell_type": "code",
      "source": [
        "# Define a superclass called Animal\n",
        "class Animal:\n",
        "    def __init__(self, name):\n",
        "        self.name = name\n",
        "\n",
        "    def speak(self):\n",
        "        return \"I am an animal.\"\n",
        "\n",
        "# Define a subclass called Dog, which inherits from Animal\n",
        "class Dog(Animal):\n",
        "    def speak(self):\n",
        "        return \"Woof! Woof!\"\n",
        "\n",
        "# Define a subclass called Cat, which inherits from Animal\n",
        "class Cat(Animal):\n",
        "    def speak(self):\n",
        "        return \"Meow! Meow!\"\n",
        "\n",
        "# Create instances of the Animal, Dog, and Cat classes\n",
        "animal = Animal(\"Generic Animal\")\n",
        "dog = Dog(\"Rover\")\n",
        "cat = Cat(\"Whiskers\")\n",
        "\n",
        "# Test the speak() method for each instance\n",
        "print(animal.speak())  # Output: I am an animal.\n",
        "print(dog.speak())     # Output: Woof! Woof!\n",
        "print(cat.speak())     # Output: Meow! Meow!\n"
      ],
      "metadata": {
        "colab": {
          "base_uri": "https://localhost:8080/"
        },
        "id": "ZgWocPDd5UAx",
        "outputId": "11ca1889-e33d-49ba-fc0e-4b650dbcfcb4"
      },
      "execution_count": 11,
      "outputs": [
        {
          "output_type": "stream",
          "name": "stdout",
          "text": [
            "I am an animal.\n",
            "Woof! Woof!\n",
            "Meow! Meow!\n"
          ]
        }
      ]
    },
    {
      "cell_type": "markdown",
      "source": [
        "In this example, we define a superclass Animal with a speak() method. We then create two subclasses, Dog and Cat, which inherit from the Animal class. Both subclasses override the speak() method to provide their own implementation. When we create instances of the superclass and subclasses and call the speak() method, we see that each class has its own version of the method."
      ],
      "metadata": {
        "id": "-mZivEs67Uo0"
      }
    },
    {
      "cell_type": "markdown",
      "source": [
        "**Q32. Suppose class C inherits from classes A and B as class C(A,B).Classes A and B both have their own versions of method func(). If we call func() from an object of class C, which version gets invoked?**\n",
        "\n",
        "In Python, when a class (C) inherits from multiple classes (A and B) and both parent classes have their own versions of a method (func()), the method resolution order (MRO) determines which version of the method gets invoked. Python uses a C3 linearization algorithm to determine the MRO.\n",
        "\n",
        "In the case of class C(A, B), the MRO would be C -> A -> B -> object (where object is the base class of all Python classes). So, when you call func() from an object of class C, the version of func() in class A will be invoked, as it appears first in the MRO."
      ],
      "metadata": {
        "id": "TAle5PRC5wOj"
      }
    },
    {
      "cell_type": "code",
      "source": [
        "class A:\n",
        "    def func(self):\n",
        "        return \"Function in class A\"\n",
        "\n",
        "class B:\n",
        "    def func(self):\n",
        "        return \"Function in class B\"\n",
        "\n",
        "class C(A, B):\n",
        "    pass\n",
        "\n",
        "# Create an instance of class C\n",
        "c_instance = C()\n",
        "\n",
        "# Call the func() method\n",
        "result = c_instance.func()\n",
        "print(result)  # Output: Function in class A\n"
      ],
      "metadata": {
        "colab": {
          "base_uri": "https://localhost:8080/"
        },
        "id": "m9v-P8uN5sIJ",
        "outputId": "28742f71-f429-4ef6-e04b-a3a375a0cf59"
      },
      "execution_count": 12,
      "outputs": [
        {
          "output_type": "stream",
          "name": "stdout",
          "text": [
            "Function in class A\n"
          ]
        }
      ]
    },
    {
      "cell_type": "markdown",
      "source": [
        "In this example, we define classes A and B with their own versions of the func() method. Class C inherits from classes A and B. When we create an instance of class C and call the func() method, the version from class A is invoked because it appears first in the method resolution order."
      ],
      "metadata": {
        "id": "VlFyvBcv7MT7"
      }
    },
    {
      "cell_type": "markdown",
      "source": [
        "**Q33. Which methods/functions do we use to determine the type of instance and inheritance?**\n",
        "\n",
        "In Python, we can use the type() function to determine the type of an instance, and the isinstance() and issubclass() functions to check inheritance relationships."
      ],
      "metadata": {
        "id": "Z9cimMNQ6Gxj"
      }
    },
    {
      "cell_type": "code",
      "source": [
        "class Animal:\n",
        "    pass\n",
        "\n",
        "class Dog(Animal):\n",
        "    pass\n",
        "\n",
        "class Cat(Animal):\n",
        "    pass\n",
        "\n",
        "# Create instances of Animal and Dog classes\n",
        "animal = Animal()\n",
        "dog = Dog()\n",
        "\n",
        "# Use the type() function to determine the type of an instance\n",
        "print(type(animal))  # Output: <class '__main__.Animal'>\n",
        "print(type(dog))     # Output: <class '__main__.Dog'>\n",
        "\n",
        "# Use the isinstance() function to check if an instance is an instance of a class or its subclass\n",
        "print(isinstance(dog, Dog))      # Output: True\n",
        "print(isinstance(dog, Animal))   # Output: True\n",
        "print(isinstance(dog, Cat))      # Output: False\n",
        "\n",
        "# Use the issubclass() function to check if a class is a subclass of another class\n",
        "print(issubclass(Dog, Animal))   # Output: True\n",
        "print(issubclass(Cat, Animal))   # Output: True\n",
        "print(issubclass(Cat, Dog))      # Output: False\n"
      ],
      "metadata": {
        "colab": {
          "base_uri": "https://localhost:8080/"
        },
        "id": "NP4dQesM6Fv0",
        "outputId": "a7e48b87-c1f4-4124-ca38-8d0473b4ef0e"
      },
      "execution_count": 13,
      "outputs": [
        {
          "output_type": "stream",
          "name": "stdout",
          "text": [
            "<class '__main__.Animal'>\n",
            "<class '__main__.Dog'>\n",
            "True\n",
            "True\n",
            "False\n",
            "True\n",
            "True\n",
            "False\n"
          ]
        }
      ]
    },
    {
      "cell_type": "markdown",
      "source": [
        "In this example, we define a base class Animal and two subclasses, Dog and Cat. We create instances of Animal and Dog classes, and use the type(), isinstance(), and issubclass() functions to determine the type of an instance and check inheritance relationships."
      ],
      "metadata": {
        "id": "upJG0tZ87Izc"
      }
    },
    {
      "cell_type": "markdown",
      "source": [
        "**Q34.Explain the use of the 'nonlocal' keyword in Python.**\n",
        "\n",
        "The 'nonlocal' keyword in Python is used to indicate that a variable inside a nested function (inner function) refers to a variable from the enclosing function (outer function). It allows the inner function to modify the value of the outer function's variable. This is useful when you want to maintain a value across multiple calls to the inner function."
      ],
      "metadata": {
        "id": "8HG4z3ks67v0"
      }
    },
    {
      "cell_type": "code",
      "source": [
        "def outer_function():\n",
        "    count = 0  # This is a variable in the outer function\n",
        "\n",
        "    def inner_function():\n",
        "        nonlocal count  # Tell Python that we are referring to the outer function's 'count' variable\n",
        "        count += 1  # Increment the value of the outer function's 'count' variable\n",
        "        return count\n",
        "\n",
        "    return inner_function\n",
        "\n",
        "# Create a counter function using the outer_function\n",
        "counter = outer_function()\n",
        "\n",
        "# Call the counter function multiple times\n",
        "print(counter())  # Output: 1\n",
        "print(counter())  # Output: 2\n",
        "print(counter())  # Output: 3\n"
      ],
      "metadata": {
        "colab": {
          "base_uri": "https://localhost:8080/"
        },
        "id": "R7B10wwz6vCH",
        "outputId": "759ea679-348c-42da-a3b7-e786f772a7cb"
      },
      "execution_count": 14,
      "outputs": [
        {
          "output_type": "stream",
          "name": "stdout",
          "text": [
            "1\n",
            "2\n",
            "3\n"
          ]
        }
      ]
    },
    {
      "cell_type": "markdown",
      "source": [
        "In this example, we define an outer_function with a variable count and a nested inner_function. We use the nonlocal keyword inside the inner_function to indicate that we want to refer to and modify the count variable from the outer_function. We then create a counter function using the outer_function and call it multiple times. The value of the count variable is maintained across multiple calls to the counter function."
      ],
      "metadata": {
        "id": "KIPbHeu87DM0"
      }
    },
    {
      "cell_type": "markdown",
      "source": [
        "**Q35. What is the global keyword?**\n",
        "\n",
        "The 'global' keyword in Python is used to indicate that a variable inside a function refers to a global variable, which is defined outside the function, in the main body of the module. It allows the function to access and modify the value of the global variable."
      ],
      "metadata": {
        "id": "1YwY14lf7okM"
      }
    },
    {
      "cell_type": "code",
      "source": [
        "count = 0  # This is a global variable\n",
        "\n",
        "def increment_count():\n",
        "    global count  # Tell Python that we are referring to the global 'count' variable\n",
        "    count += 1  # Increment the value of the global 'count' variable\n",
        "\n",
        "# Call the increment_count function multiple times\n",
        "increment_count()\n",
        "print(count)  # Output: 1\n",
        "\n",
        "increment_count()\n",
        "print(count)  # Output: 2\n",
        "\n",
        "increment_count()\n",
        "print(count)  # Output: 3\n"
      ],
      "metadata": {
        "colab": {
          "base_uri": "https://localhost:8080/"
        },
        "id": "z5ITqQ8j7HPX",
        "outputId": "8f56d1a3-06ec-46f0-fb73-49e995d60a7f"
      },
      "execution_count": 15,
      "outputs": [
        {
          "output_type": "stream",
          "name": "stdout",
          "text": [
            "1\n",
            "2\n",
            "3\n"
          ]
        }
      ]
    },
    {
      "cell_type": "code",
      "source": [],
      "metadata": {
        "id": "CL0uB72O7xJd"
      },
      "execution_count": null,
      "outputs": []
    }
  ]
}